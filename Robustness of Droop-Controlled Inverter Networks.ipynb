{
 "cells": [
  {
   "cell_type": "code",
   "execution_count": 47,
   "metadata": {},
   "outputs": [],
   "source": [
    "from Model import Model\n",
    "from Simulation import simulate\n",
    "from Optimization import FreqDevOptimizer, VoltLossOptimizer\n",
    "from Math import latin_hypercube_sample\n",
    "import numpy as np\n",
    "import matplotlib.pyplot as plt\n",
    "import matplotlib.colors\n",
    "import networkx as nx\n",
    "from scipy.optimize import root\n",
    "\n",
    "RANDOM_SEED = 214075893"
   ]
  },
  {
   "cell_type": "markdown",
   "metadata": {},
   "source": [
    "# Robustness of Droop-Controlled Inverter Networks"
   ]
  },
  {
   "cell_type": "markdown",
   "metadata": {},
   "source": [
    "## Preparing the Test Case\n",
    "We will load the IEEE-RTS 24-bus test case from the MATPOWER repository. \n",
    "The `Model.from_test_case()` function reads the nominal bus and branch data from the test case file\n",
    "on GitHub, in order to parameterize the model.\n",
    "We have run OPF for test case in MATPOWER already and saved the voltage angles from the optimal solution \n",
    "in `/data/case24_opf_angles.csv`. These angles will serve as our initial condition, $\\theta_0$."
   ]
  },
  {
   "cell_type": "code",
   "execution_count": 13,
   "metadata": {},
   "outputs": [],
   "source": [
    "model = Model.from_test_case('case24_ieee_rts', 10 * np.ones(24,))\n",
    "theta0 = np.loadtxt('./data/case24_opf_angles.csv', delimiter=',') \n",
    "\n",
    "model.p_nom, _ = model.bus_status(theta0)"
   ]
  },
  {
   "cell_type": "markdown",
   "metadata": {},
   "source": [
    "In the last line, we override the nominal power injections in the file with the \"optimal\" power injections\n",
    "computed during OPF. This ensures that the initial condition $\\theta_0$ is actually a synchronous \n",
    "state of the system. We can verify this by evaluating the nodal frequencies at $\\theta_0$, using the `Model.bus_stats()` method:"
   ]
  },
  {
   "cell_type": "code",
   "execution_count": 14,
   "metadata": {},
   "outputs": [
    {
     "name": "stdout",
     "output_type": "stream",
     "text": [
      "Nodal frequencies (Hz): [60. 60. 60. 60. 60. 60. 60. 60. 60. 60. 60. 60. 60. 60. 60. 60. 60. 60.\n",
      " 60. 60. 60. 60. 60. 60.]\n"
     ]
    }
   ],
   "source": [
    "_, freqs = model.bus_status(theta0)\n",
    "print('Nodal frequencies (Hz):', freqs)\n",
    "\n",
    "model.w_nom = freqs[0]"
   ]
  },
  {
   "cell_type": "markdown",
   "metadata": {},
   "source": [
    "For reference, we reproduce the system diagram below:\n",
    "\n",
    "<img src=\"misc/ieee24.png\" alt=\"IEEE-RTS 24-bus System\" style=\"width: 300px;\"/>"
   ]
  },
  {
   "cell_type": "markdown",
   "metadata": {},
   "source": [
    "## Evaluating Post-Fault Transient Stability"
   ]
  },
  {
   "cell_type": "code",
   "execution_count": 15,
   "metadata": {},
   "outputs": [],
   "source": [
    "n_test_pts = 200 \n",
    "gamma_star = np.pi / 2 - np.maximum(np.abs(model.phiij), np.abs(model.phiji))\n",
    "np.random.seed(RANDOM_SEED)\n",
    "Gamma = latin_hypercube_sample(n_test_pts, np.zeros(model.m,), gamma_star)  "
   ]
  },
  {
   "cell_type": "code",
   "execution_count": 16,
   "metadata": {},
   "outputs": [],
   "source": [
    "u = np.zeros(11,)\n",
    "opt = FreqDevOptimizer(model)\n",
    "opt_ignore = FreqDevOptimizer(model, ignore_outward=True)\n",
    "V_outward = np.array([opt(Gamma[:, i]) for i in range(Gamma.shape[1])])\n",
    "V_winding = np.array([opt_ignore(Gamma[:, i], u) for i in range(Gamma.shape[1])])\n",
    "V_both = np.array([opt(Gamma[:, i], u) for i in range(Gamma.shape[1])])"
   ]
  },
  {
   "cell_type": "code",
   "execution_count": 17,
   "metadata": {},
   "outputs": [],
   "source": [
    "gamma_scale = np.linspace(0.01, np.pi / 4, n_test_pts)\n",
    "\n",
    "U_outward = np.zeros(n_test_pts,)\n",
    "U_winding = np.zeros(n_test_pts,)\n",
    "U_both = np.zeros(n_test_pts,) \n",
    "\n",
    "for j in range(n_test_pts):\n",
    "    larger_gamma_idx = np.all(Gamma >= gamma_scale[j], axis=0)\n",
    "    if sum(larger_gamma_idx) == 0:\n",
    "        continue\n",
    "    U_outward[j] = np.max(V_outward[larger_gamma_idx])\n",
    "    U_winding[j] = np.max(V_winding[larger_gamma_idx])\n",
    "    U_both[j] = np.max(V_both[larger_gamma_idx]) "
   ]
  },
  {
   "cell_type": "code",
   "execution_count": 77,
   "metadata": {
    "scrolled": false
   },
   "outputs": [
    {
     "data": {
      "image/png": "[encoded data removed]",
      "text/plain": [
       "<Figure size 432x288 with 1 Axes>"
      ]
     },
     "metadata": {
      "needs_background": "light"
     },
     "output_type": "display_data"
    }
   ],
   "source": [
    "plt.plot(gamma_scale * 180 / np.pi, U_outward)\n",
    "# plt.plot(gamma_scale * 180 / np.pi, U_winding)\n",
    "plt.plot(gamma_scale * 180 / np.pi, U_both)\n",
    "plt.xlabel('Max Angle Difference (degrees)')\n",
    "plt.ylabel('Max Freq Deviation (Hz)')\n",
    "plt.legend(['Problem 2', 'Problem 3'])\n",
    "plt.show()"
   ]
  },
  {
   "cell_type": "code",
   "execution_count": 32,
   "metadata": {},
   "outputs": [
    {
     "name": "stdout",
     "output_type": "stream",
     "text": [
      "Best min-max freq dev: 0.04348156642949624\n",
      "Best gamma (degrees):\n",
      "\tMin: 18.495822911847032\n",
      "\tMedian: 20.32892082594466\n",
      "\tMax: 22.10491811452774\n"
     ]
    }
   ],
   "source": [
    "_, gamma0, _ = model.state_status(theta0)\n",
    "gamma_larger = np.all(Gamma >= np.c_[gamma0], axis=0)\n",
    "best_idx = np.argmax(V_winding[gamma_larger])\n",
    "best_gamma = (Gamma[:, gamma_larger])[:, best_idx]\n",
    "best_freq_dev = V_winding[gamma_larger][best_idx]\n",
    "\n",
    "print('Best min-max freq dev:', best_freq_dev)\n",
    "print('Best gamma (degrees):')\n",
    "print('\\tMin:', np.min(best_gamma) * 180 / np.pi)\n",
    "print('\\tMedian:', np.median(best_gamma) * 180 / np.pi)\n",
    "print('\\tMax:', np.max(best_gamma) * 180 / np.pi)"
   ]
  },
  {
   "cell_type": "markdown",
   "metadata": {},
   "source": [
    "## Perturbations of Nominal Injections"
   ]
  },
  {
   "cell_type": "code",
   "execution_count": 45,
   "metadata": {},
   "outputs": [
    {
     "name": "stdout",
     "output_type": "stream",
     "text": [
      "Max. pnom perturbations (% of nominal):\n",
      "[  27.18984267   24.87565996   11.72416831   30.74684237   30.85580837\n",
      "   17.56261775   25.99951613   13.83558447   11.87392319   10.34188976\n",
      "  113.25551599 1515.09017305   70.6675497    10.93360224   12.70210431\n",
      "   31.527968     33.90756367   21.38923252   12.66277439   36.26430623\n",
      "    5.39140717    7.25665951    3.73315403   87.73896895]\n",
      "Median: 23.13244623717889\n"
     ]
    },
    {
     "data": {
      "image/png": "[encoded data removed]",
      "text/plain": [
       "<Figure size 432x288 with 1 Axes>"
      ]
     },
     "metadata": {
      "needs_background": "light"
     },
     "output_type": "display_data"
    }
   ],
   "source": [
    "pnom_perturb = 0.5 * model.d * best_freq_dev\n",
    "rel_pnom_perturb = np.abs(100 * pnom_perturb / model.p_nom)\n",
    "print('Max. pnom perturbations (% of nominal):')\n",
    "print(rel_pnom_perturb)\n",
    "print('Median:', np.median(rel_pnom_perturb))\n",
    "\n",
    "plt.bar(range(0,24), model.p_nom, yerr=pnom_perturb)\n",
    "plt.xlabel('Bus Index')\n",
    "plt.ylabel('Nominal Injection (pu)')\n",
    "plt.show()"
   ]
  },
  {
   "cell_type": "markdown",
   "metadata": {},
   "source": [
    "## Perturbations of Voltage Magnitudes"
   ]
  },
  {
   "cell_type": "code",
   "execution_count": 52,
   "metadata": {},
   "outputs": [
    {
     "name": "stdout",
     "output_type": "stream",
     "text": [
      "Median: 0.010537025070872457\n"
     ]
    },
    {
     "data": {
      "image/png": "[encoded data removed]",
      "text/plain": [
       "<Figure size 432x288 with 1 Axes>"
      ]
     },
     "metadata": {
      "needs_background": "light"
     },
     "output_type": "display_data"
    }
   ],
   "source": [
    "vopt = VoltLossOptimizer(model, theta0)\n",
    "safe_rel_loss = np.zeros(model.n,)\n",
    "for i in range(model.n):\n",
    "    safe_rel_loss[i], _, _ = vopt(best_gamma, i, best_freq_dev)\n",
    "    \n",
    "print('Median:', np.median(safe_rel_loss))\n",
    "\n",
    "plt.bar(range(0,24), 100 * safe_rel_loss)\n",
    "plt.xlabel('Bus Index')\n",
    "plt.ylabel('Voltage Loss Tolerance (% of Nominal)')\n",
    "plt.show()"
   ]
  }
 ],
 "metadata": {
  "kernelspec": {
   "display_name": "Python 3",
   "language": "python",
   "name": "python3"
  },
  "language_info": {
   "codemirror_mode": {
    "name": "ipython",
    "version": 3
   },
   "file_extension": ".py",
   "mimetype": "text/x-python",
   "name": "python",
   "nbconvert_exporter": "python",
   "pygments_lexer": "ipython3",
   "version": "3.7.4"
  }
 },
 "nbformat": 4,
 "nbformat_minor": 2
}
